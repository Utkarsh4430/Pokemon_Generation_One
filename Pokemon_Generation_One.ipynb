{
  "nbformat": 4,
  "nbformat_minor": 0,
  "metadata": {
    "colab": {
      "name": "Cats Dogs CNN Keras.ipynb",
      "version": "0.3.2",
      "provenance": [],
      "collapsed_sections": []
    },
    "kernelspec": {
      "name": "python3",
      "display_name": "Python 3"
    },
    "accelerator": "GPU"
  },
  "cells": [
    {
      "metadata": {
        "colab_type": "code",
        "id": "pqnzDSdrP3N9",
        "outputId": "6f582dfb-0e9e-4796-a7ee-7d0901fae221",
        "colab": {
          "base_uri": "https://localhost:8080/",
          "height": 248
        }
      },
      "cell_type": "code",
      "source": [
        "#INSTALLING THE KAGGLE API\n",
        "\n",
        "!pip install kaggle #installing the kaggle API\n",
        "from googleapiclient.discovery import build\n",
        "import io, os\n",
        "from googleapiclient.http import MediaIoBaseDownload\n",
        "from google.colab import auth\n",
        "\n",
        "auth.authenticate_user()\n",
        "\n",
        "drive_service = build('drive', 'v3')\n",
        "results = drive_service.files().list(\n",
        "        q=\"name = 'kaggle.json'\", fields=\"files(id)\").execute()\n",
        "kaggle_api_key = results.get('files', [])\n",
        "\n",
        "filename = \"/content/.kaggle/kaggle.json\"\n",
        "os.makedirs(os.path.dirname(filename), exist_ok=True)\n",
        "\n",
        "request = drive_service.files().get_media(fileId=kaggle_api_key[0]['id'])\n",
        "fh = io.FileIO(filename, 'wb')\n",
        "downloader = MediaIoBaseDownload(fh, request)\n",
        "done = False\n",
        "while done is False:\n",
        "    status, done = downloader.next_chunk()\n",
        "    print(\"Download %d%%.\" % int(status.progress() * 100))\n",
        "os.chmod(filename, 600)\n",
        "#copying the .json file to the required directory\n",
        "!mkdir ~/.kaggle\n",
        "!cp /content/.kaggle/kaggle.json ~/.kaggle/kaggle.json\n"
      ],
      "execution_count": 39,
      "outputs": [
        {
          "output_type": "stream",
          "text": [
            "Requirement already satisfied: kaggle in /usr/local/lib/python3.6/dist-packages (1.5.1.1)\n",
            "Requirement already satisfied: urllib3<1.23.0,>=1.15 in /usr/local/lib/python3.6/dist-packages (from kaggle) (1.22)\n",
            "Requirement already satisfied: six>=1.10 in /usr/local/lib/python3.6/dist-packages (from kaggle) (1.11.0)\n",
            "Requirement already satisfied: certifi in /usr/local/lib/python3.6/dist-packages (from kaggle) (2018.11.29)\n",
            "Requirement already satisfied: python-dateutil in /usr/local/lib/python3.6/dist-packages (from kaggle) (2.5.3)\n",
            "Requirement already satisfied: requests in /usr/local/lib/python3.6/dist-packages (from kaggle) (2.18.4)\n",
            "Requirement already satisfied: tqdm in /usr/local/lib/python3.6/dist-packages (from kaggle) (4.28.1)\n",
            "Requirement already satisfied: python-slugify in /usr/local/lib/python3.6/dist-packages (from kaggle) (1.2.6)\n",
            "Requirement already satisfied: idna<2.7,>=2.5 in /usr/local/lib/python3.6/dist-packages (from requests->kaggle) (2.6)\n",
            "Requirement already satisfied: chardet<3.1.0,>=3.0.2 in /usr/local/lib/python3.6/dist-packages (from requests->kaggle) (3.0.4)\n",
            "Requirement already satisfied: Unidecode>=0.04.16 in /usr/local/lib/python3.6/dist-packages (from python-slugify->kaggle) (1.0.23)\n",
            "Download 100%.\n",
            "mkdir: cannot create directory ‘/root/.kaggle’: File exists\n"
          ],
          "name": "stdout"
        }
      ]
    },
    {
      "metadata": {
        "colab_type": "code",
        "id": "7Y1iYxkMQEr_",
        "outputId": "fda3fa35-b051-40c0-9178-2c61153a22c5",
        "colab": {
          "base_uri": "https://localhost:8080/",
          "height": 35
        }
      },
      "cell_type": "code",
      "source": [
        "#downloading the files\n",
        "!kaggle datasets download -d thedagger/pokemon-generation-one -p /content/kaggle"
      ],
      "execution_count": 40,
      "outputs": [
        {
          "output_type": "stream",
          "text": [
            "pokemon-generation-one.zip: Skipping, found more recently modified local copy (use --force to force download)\n"
          ],
          "name": "stdout"
        }
      ]
    },
    {
      "metadata": {
        "colab_type": "code",
        "id": "bw1fjzvsQH9u",
        "colab": {}
      },
      "cell_type": "code",
      "source": [
        "#extracting the training zip file\n",
        "import zipfile\n",
        "\n",
        "local_zip = '/content/kaggle/pokemon-generation-one.zip'\n",
        "zip_ref = zipfile.ZipFile(local_zip, 'r')\n",
        "zip_ref.extractall('/content/utkarsh')\n",
        "zip_ref.close()"
      ],
      "execution_count": 0,
      "outputs": []
    },
    {
      "metadata": {
        "id": "Uexj-sPqAgDD",
        "colab_type": "code",
        "colab": {
          "base_uri": "https://localhost:8080/",
          "height": 35
        },
        "outputId": "2b42dabd-edbf-4a1b-e4d9-d376ef73362e"
      },
      "cell_type": "code",
      "source": [
        "os.listdir()"
      ],
      "execution_count": 42,
      "outputs": [
        {
          "output_type": "execute_result",
          "data": {
            "text/plain": [
              "['.config', '.kaggle', 'kaggle', 'utkarsh', 'adc.json', 'sample_data']"
            ]
          },
          "metadata": {
            "tags": []
          },
          "execution_count": 42
        }
      ]
    },
    {
      "metadata": {
        "colab_type": "code",
        "id": "sAJmRBapQKmd",
        "colab": {}
      },
      "cell_type": "code",
      "source": [
        "#importing required libraries\n",
        "\n",
        "#image precessing\n",
        "import cv2\n",
        "#file handling\n",
        "import os\n",
        "#obvious\n",
        "import numpy as np\n",
        "import pandas as pd\n",
        "#library to know the progress of for loops\n",
        "from tqdm import tqdm"
      ],
      "execution_count": 0,
      "outputs": []
    },
    {
      "metadata": {
        "colab_type": "code",
        "id": "C0Xog0d9QMaX",
        "colab": {}
      },
      "cell_type": "code",
      "source": [
        "#the path where the required files are\n",
        "base_dir = '/content/utkarsh'\n",
        "train_dir = os.path.join(base_dir, 'dataset')\n",
        "# test_dir = os.path.join(base_dir,'test')"
      ],
      "execution_count": 0,
      "outputs": []
    },
    {
      "metadata": {
        "id": "XdPWfsDl-8xw",
        "colab_type": "code",
        "colab": {
          "base_uri": "https://localhost:8080/",
          "height": 2701
        },
        "outputId": "e936f04f-eb74-4a42-93ec-7130f0a28596"
      },
      "cell_type": "code",
      "source": [
        "os.listdir(train_dir)"
      ],
      "execution_count": 45,
      "outputs": [
        {
          "output_type": "execute_result",
          "data": {
            "text/plain": [
              "['Electabuzz',\n",
              " 'Exeggcute',\n",
              " 'Shellder',\n",
              " 'Paras',\n",
              " 'Poliwhirl',\n",
              " 'Moltres',\n",
              " 'Slowbro',\n",
              " 'Jolteon',\n",
              " 'Ninetales',\n",
              " 'Venonat',\n",
              " 'Drowzee',\n",
              " 'Poliwrath',\n",
              " 'Golbat',\n",
              " 'Machamp',\n",
              " 'Psyduck',\n",
              " 'Gengar',\n",
              " 'Zubat',\n",
              " 'NidoranΓÖé',\n",
              " 'Golem',\n",
              " 'Ditto',\n",
              " 'Horsea',\n",
              " 'Raichu',\n",
              " 'Nidorino',\n",
              " 'Butterfree',\n",
              " 'Fearow',\n",
              " 'Krabby',\n",
              " 'Charmeleon',\n",
              " 'Zapdos',\n",
              " 'Jynx',\n",
              " 'Weepinbell',\n",
              " 'Ivysaur',\n",
              " 'Starmie',\n",
              " 'Venomoth',\n",
              " 'Sandslash',\n",
              " 'Electrode',\n",
              " 'Doduo',\n",
              " 'Nidoqueen',\n",
              " 'Mewtwo',\n",
              " 'Dratini',\n",
              " 'Voltorb',\n",
              " 'Metapod',\n",
              " 'Gastly',\n",
              " 'Raticate',\n",
              " 'Clefairy',\n",
              " 'Hypno',\n",
              " 'Articuno',\n",
              " 'Flareon',\n",
              " 'Meowth',\n",
              " 'Persian',\n",
              " 'Machop',\n",
              " 'Aerodactyl',\n",
              " 'Ponyta',\n",
              " 'Jigglypuff',\n",
              " 'Victreebel',\n",
              " 'Lapras',\n",
              " 'Mankey',\n",
              " 'Exeggutor',\n",
              " 'Tauros',\n",
              " 'Spearow',\n",
              " 'Oddish',\n",
              " 'Mew',\n",
              " 'Abra',\n",
              " 'Graveler',\n",
              " 'Rapidash',\n",
              " 'Kakuna',\n",
              " 'Kingler',\n",
              " 'Geodude',\n",
              " 'Farfetchd',\n",
              " 'Nidorina',\n",
              " 'Dugtrio',\n",
              " 'Magmar',\n",
              " 'Gloom',\n",
              " 'Sandshrew',\n",
              " 'Dragonite',\n",
              " 'Bulbasaur',\n",
              " 'Arbok',\n",
              " 'Kadabra',\n",
              " 'Ekans',\n",
              " 'Kabutops',\n",
              " 'Tentacool',\n",
              " 'Pidgeot',\n",
              " 'Kangaskhan',\n",
              " 'Goldeen',\n",
              " 'Primeape',\n",
              " 'Weezing',\n",
              " 'Slowpoke',\n",
              " 'Rhyhorn',\n",
              " 'Poliwag',\n",
              " 'Muk',\n",
              " 'Snorlax',\n",
              " 'Pikachu',\n",
              " 'Magikarp',\n",
              " 'Vulpix',\n",
              " 'Porygon',\n",
              " 'Pinsir',\n",
              " 'Scyther',\n",
              " 'Bellsprout',\n",
              " 'Clefable',\n",
              " 'Pidgey',\n",
              " 'Beedrill',\n",
              " 'Grimer',\n",
              " 'Marowak',\n",
              " 'Omanyte',\n",
              " 'Golduck',\n",
              " 'Rhydon',\n",
              " 'Eevee',\n",
              " 'Vileplume',\n",
              " 'Seel',\n",
              " 'Parasect',\n",
              " 'Onix',\n",
              " 'Dodrio',\n",
              " 'Caterpie',\n",
              " 'Omastar',\n",
              " 'Blastoise',\n",
              " 'Seadra',\n",
              " 'Pidgeotto',\n",
              " 'Seaking',\n",
              " 'Nidoking',\n",
              " 'Kabuto',\n",
              " 'Dragonair',\n",
              " 'NidoranΓÖÇ',\n",
              " 'Rattata',\n",
              " 'Venusaur',\n",
              " 'Staryu',\n",
              " 'Wigglytuff',\n",
              " 'Hitmonlee',\n",
              " 'Hitmonchan',\n",
              " 'Squirtle',\n",
              " 'Vaporeon',\n",
              " 'Chansey',\n",
              " 'Machoke',\n",
              " 'Wartortle',\n",
              " 'Alakazam',\n",
              " 'Gyarados',\n",
              " 'Magnemite',\n",
              " 'Magneton',\n",
              " 'Tentacruel',\n",
              " 'Dewgong',\n",
              " 'Diglett',\n",
              " 'Weedle',\n",
              " 'Koffing',\n",
              " 'Cloyster',\n",
              " 'Tangela',\n",
              " 'MrMime',\n",
              " 'Charmander',\n",
              " 'Arcanine',\n",
              " 'Charizard',\n",
              " 'Growlithe',\n",
              " 'Cubone',\n",
              " 'Haunter',\n",
              " 'Lickitung']"
            ]
          },
          "metadata": {
            "tags": []
          },
          "execution_count": 45
        }
      ]
    },
    {
      "metadata": {
        "colab_type": "code",
        "id": "evsp8oKFQTnn",
        "colab": {}
      },
      "cell_type": "code",
      "source": [
        "#loading images and returning an array containing the features\n",
        "IMG_SIZE = 50\n",
        "def load_images_from_folder(folder):\n",
        "    images = []\n",
        "    for folders in tqdm(os.listdir(folder)):\n",
        "      for filename in os.listdir(os.path.join(folder,folders)):\n",
        "#           print(folders,filename)\n",
        "          if(filename==\".DS_Store\"):\n",
        "            continue\n",
        "          if(filename.split(\".\")[1]==\"jpg\"):\n",
        "            img = cv2.imread(os.path.join(folder,os.path.join(folders,filename)))\n",
        "            img = cv2.resize(img, (IMG_SIZE,IMG_SIZE))\n",
        "            img = img/255\n",
        "            if img is not None:\n",
        "              images.append([np.array(img),folders])\n",
        "    return images"
      ],
      "execution_count": 0,
      "outputs": []
    },
    {
      "metadata": {
        "colab_type": "code",
        "id": "L2zbE5GQQTqH",
        "outputId": "9e9c23bb-078c-4b7b-920e-a0ae92fbae9d",
        "colab": {
          "base_uri": "https://localhost:8080/",
          "height": 35
        }
      },
      "cell_type": "code",
      "source": [
        "train1 = load_images_from_folder(\"/content/utkarsh/dataset\")\n"
      ],
      "execution_count": 47,
      "outputs": [
        {
          "output_type": "stream",
          "text": [
            "100%|██████████| 151/151 [01:16<00:00,  1.83it/s]\n"
          ],
          "name": "stderr"
        }
      ]
    },
    {
      "metadata": {
        "id": "-iIJ-3aME9C5",
        "colab_type": "code",
        "colab": {}
      },
      "cell_type": "code",
      "source": [
        "len(train1)\n",
        "x = []\n",
        "y = []\n",
        "for i in train1:\n",
        "  x.append(i[0])\n",
        "  y.append(i[1])"
      ],
      "execution_count": 0,
      "outputs": []
    },
    {
      "metadata": {
        "id": "tVGfyRUOJ5yh",
        "colab_type": "code",
        "colab": {}
      },
      "cell_type": "code",
      "source": [
        "x = np.array(x)\n"
      ],
      "execution_count": 0,
      "outputs": []
    },
    {
      "metadata": {
        "id": "gGWhY1A0HlGj",
        "colab_type": "code",
        "colab": {
          "base_uri": "https://localhost:8080/",
          "height": 35
        },
        "outputId": "5676f46e-0d25-4e52-ddd0-bc95aa2769ef"
      },
      "cell_type": "code",
      "source": [
        "from sklearn.preprocessing import LabelBinarizer\n",
        "encoder = LabelBinarizer()\n",
        "y_train1 = encoder.fit_transform(y)\n",
        "len(encoder.classes_)"
      ],
      "execution_count": 50,
      "outputs": [
        {
          "output_type": "execute_result",
          "data": {
            "text/plain": [
              "149"
            ]
          },
          "metadata": {
            "tags": []
          },
          "execution_count": 50
        }
      ]
    },
    {
      "metadata": {
        "colab_type": "code",
        "id": "HpKsx4vYQTsm",
        "colab": {}
      },
      "cell_type": "code",
      "source": [
        "#splitting the data into training and testing data\n",
        "# from sklearn.model_selection import train_test_split\n",
        "# x_train,x_test,y_train,y_test = train_test_split(train1,y,random_state=0,test_size=0.2)"
      ],
      "execution_count": 0,
      "outputs": []
    },
    {
      "metadata": {
        "colab_type": "code",
        "id": "y1Mmeo0VQT2P",
        "colab": {}
      },
      "cell_type": "code",
      "source": [
        "#importing keras and required layers\n",
        "from keras.models import Sequential\n",
        "from keras.layers import Dense, Conv2D, MaxPooling2D, Dropout, Flatten"
      ],
      "execution_count": 0,
      "outputs": []
    },
    {
      "metadata": {
        "colab_type": "code",
        "id": "BCiLiscuWV9Y",
        "colab": {}
      },
      "cell_type": "code",
      "source": [
        "nClasses = 149"
      ],
      "execution_count": 0,
      "outputs": []
    },
    {
      "metadata": {
        "colab_type": "code",
        "id": "mCNMS5rQQT46",
        "colab": {}
      },
      "cell_type": "code",
      "source": [
        "#constructing the model\n",
        "model = Sequential()\n",
        "model.add(Conv2D(32, (3, 3), padding='same', activation='relu', input_shape=(50,50,3)))\n",
        "model.add(Conv2D(32, (3, 3), activation='relu',padding='same'))\n",
        "model.add(MaxPooling2D(pool_size=(2, 2)))\n",
        "model.add(Dropout(0.25))\n",
        " \n",
        "model.add(Conv2D(64, (3, 3), padding='same', activation='relu'))\n",
        "model.add(Conv2D(64, (3, 3), activation='relu',padding='same'))\n",
        "model.add(MaxPooling2D(pool_size=(2, 2)))\n",
        "model.add(Dropout(0.25))\n",
        " \n",
        "model.add(Conv2D(96, (3, 3), padding='same', activation='relu'))\n",
        "model.add(Conv2D(96, (3, 3), activation='relu',padding='same'))\n",
        "model.add(MaxPooling2D(pool_size=(2, 2)))\n",
        "model.add(Dropout(0.25))\n",
        "\n",
        "model.add(Flatten())\n",
        "model.add(Dense(512, activation='relu'))\n",
        "model.add(Dropout(0.25))\n",
        "model.add(Dense(nClasses, activation='softmax'))"
      ],
      "execution_count": 0,
      "outputs": []
    },
    {
      "metadata": {
        "colab_type": "code",
        "id": "OMOxCQACQT68",
        "outputId": "0650f7a3-8755-4f9f-b90a-52343bc4201c",
        "colab": {
          "base_uri": "https://localhost:8080/",
          "height": 728
        }
      },
      "cell_type": "code",
      "source": [
        "model.compile(optimizer='Adam', loss='categorical_crossentropy', metrics=['accuracy'])\n",
        "print(model.summary())"
      ],
      "execution_count": 55,
      "outputs": [
        {
          "output_type": "stream",
          "text": [
            "_________________________________________________________________\n",
            "Layer (type)                 Output Shape              Param #   \n",
            "=================================================================\n",
            "conv2d_13 (Conv2D)           (None, 50, 50, 32)        896       \n",
            "_________________________________________________________________\n",
            "conv2d_14 (Conv2D)           (None, 50, 50, 32)        9248      \n",
            "_________________________________________________________________\n",
            "max_pooling2d_7 (MaxPooling2 (None, 25, 25, 32)        0         \n",
            "_________________________________________________________________\n",
            "dropout_9 (Dropout)          (None, 25, 25, 32)        0         \n",
            "_________________________________________________________________\n",
            "conv2d_15 (Conv2D)           (None, 25, 25, 64)        18496     \n",
            "_________________________________________________________________\n",
            "conv2d_16 (Conv2D)           (None, 25, 25, 64)        36928     \n",
            "_________________________________________________________________\n",
            "max_pooling2d_8 (MaxPooling2 (None, 12, 12, 64)        0         \n",
            "_________________________________________________________________\n",
            "dropout_10 (Dropout)         (None, 12, 12, 64)        0         \n",
            "_________________________________________________________________\n",
            "conv2d_17 (Conv2D)           (None, 12, 12, 96)        55392     \n",
            "_________________________________________________________________\n",
            "conv2d_18 (Conv2D)           (None, 12, 12, 96)        83040     \n",
            "_________________________________________________________________\n",
            "max_pooling2d_9 (MaxPooling2 (None, 6, 6, 96)          0         \n",
            "_________________________________________________________________\n",
            "dropout_11 (Dropout)         (None, 6, 6, 96)          0         \n",
            "_________________________________________________________________\n",
            "flatten_3 (Flatten)          (None, 3456)              0         \n",
            "_________________________________________________________________\n",
            "dense_5 (Dense)              (None, 512)               1769984   \n",
            "_________________________________________________________________\n",
            "dropout_12 (Dropout)         (None, 512)               0         \n",
            "_________________________________________________________________\n",
            "dense_6 (Dense)              (None, 149)               76437     \n",
            "=================================================================\n",
            "Total params: 2,050,421\n",
            "Trainable params: 2,050,421\n",
            "Non-trainable params: 0\n",
            "_________________________________________________________________\n",
            "None\n"
          ],
          "name": "stdout"
        }
      ]
    },
    {
      "metadata": {
        "colab_type": "code",
        "id": "WTCbrN3TQT9O",
        "outputId": "f391c350-4530-4efd-9341-4e42f48c3767",
        "scrolled": true,
        "colab": {
          "base_uri": "https://localhost:8080/",
          "height": 3590
        }
      },
      "cell_type": "code",
      "source": [
        "model.fit(x,y_train1,epochs =100,batch_size = 50)"
      ],
      "execution_count": 56,
      "outputs": [
        {
          "output_type": "stream",
          "text": [
            "Epoch 1/100\n",
            "10118/10118 [==============================] - 9s 909us/step - loss: 4.9082 - acc: 0.0243\n",
            "Epoch 2/100\n",
            "10118/10118 [==============================] - 8s 797us/step - loss: 4.5175 - acc: 0.0649\n",
            "Epoch 3/100\n",
            "10118/10118 [==============================] - 8s 800us/step - loss: 4.2083 - acc: 0.0989\n",
            "Epoch 4/100\n",
            "10118/10118 [==============================] - 8s 799us/step - loss: 3.8173 - acc: 0.1547\n",
            "Epoch 5/100\n",
            "10118/10118 [==============================] - 8s 802us/step - loss: 3.3962 - acc: 0.2273\n",
            "Epoch 6/100\n",
            "10118/10118 [==============================] - 8s 801us/step - loss: 3.0267 - acc: 0.2902\n",
            "Epoch 7/100\n",
            "10118/10118 [==============================] - 8s 797us/step - loss: 2.7099 - acc: 0.3471\n",
            "Epoch 8/100\n",
            "10118/10118 [==============================] - 8s 799us/step - loss: 2.4032 - acc: 0.4086\n",
            "Epoch 9/100\n",
            "10118/10118 [==============================] - 8s 798us/step - loss: 2.1371 - acc: 0.4619\n",
            "Epoch 10/100\n",
            "10118/10118 [==============================] - 8s 802us/step - loss: 1.8704 - acc: 0.5154\n",
            "Epoch 11/100\n",
            "10118/10118 [==============================] - 8s 802us/step - loss: 1.6392 - acc: 0.5740\n",
            "Epoch 12/100\n",
            "10118/10118 [==============================] - 8s 801us/step - loss: 1.4622 - acc: 0.6077\n",
            "Epoch 13/100\n",
            "10118/10118 [==============================] - 8s 799us/step - loss: 1.3165 - acc: 0.6429\n",
            "Epoch 14/100\n",
            "10118/10118 [==============================] - 8s 802us/step - loss: 1.1748 - acc: 0.6810\n",
            "Epoch 15/100\n",
            "10118/10118 [==============================] - 8s 803us/step - loss: 1.0625 - acc: 0.7091\n",
            "Epoch 16/100\n",
            "10118/10118 [==============================] - 8s 801us/step - loss: 0.9684 - acc: 0.7318\n",
            "Epoch 17/100\n",
            "10118/10118 [==============================] - 8s 802us/step - loss: 0.9081 - acc: 0.7437\n",
            "Epoch 18/100\n",
            "10118/10118 [==============================] - 8s 801us/step - loss: 0.8065 - acc: 0.7803\n",
            "Epoch 19/100\n",
            "10118/10118 [==============================] - 8s 800us/step - loss: 0.7509 - acc: 0.7881\n",
            "Epoch 20/100\n",
            "10118/10118 [==============================] - 8s 802us/step - loss: 0.7162 - acc: 0.7958\n",
            "Epoch 21/100\n",
            "10118/10118 [==============================] - 8s 801us/step - loss: 0.6516 - acc: 0.8188\n",
            "Epoch 22/100\n",
            "10118/10118 [==============================] - 8s 801us/step - loss: 0.6297 - acc: 0.8178\n",
            "Epoch 23/100\n",
            "10118/10118 [==============================] - 8s 794us/step - loss: 0.5611 - acc: 0.8402\n",
            "Epoch 24/100\n",
            "10118/10118 [==============================] - 8s 797us/step - loss: 0.5593 - acc: 0.8401\n",
            "Epoch 25/100\n",
            "10118/10118 [==============================] - 8s 802us/step - loss: 0.5129 - acc: 0.8495\n",
            "Epoch 26/100\n",
            "10118/10118 [==============================] - 8s 805us/step - loss: 0.4713 - acc: 0.8655\n",
            "Epoch 27/100\n",
            "10118/10118 [==============================] - 8s 800us/step - loss: 0.4710 - acc: 0.8629\n",
            "Epoch 28/100\n",
            "10118/10118 [==============================] - 8s 802us/step - loss: 0.4552 - acc: 0.8632\n",
            "Epoch 29/100\n",
            "10118/10118 [==============================] - 8s 802us/step - loss: 0.4354 - acc: 0.8731\n",
            "Epoch 30/100\n",
            "10118/10118 [==============================] - 8s 804us/step - loss: 0.4287 - acc: 0.8766\n",
            "Epoch 31/100\n",
            "10118/10118 [==============================] - 8s 800us/step - loss: 0.4101 - acc: 0.8784\n",
            "Epoch 32/100\n",
            "10118/10118 [==============================] - 8s 805us/step - loss: 0.3778 - acc: 0.8882\n",
            "Epoch 33/100\n",
            "10118/10118 [==============================] - 8s 802us/step - loss: 0.3759 - acc: 0.8904\n",
            "Epoch 34/100\n",
            "10118/10118 [==============================] - 8s 803us/step - loss: 0.3616 - acc: 0.8943\n",
            "Epoch 35/100\n",
            "10118/10118 [==============================] - 8s 804us/step - loss: 0.3750 - acc: 0.8871\n",
            "Epoch 36/100\n",
            "10118/10118 [==============================] - 8s 802us/step - loss: 0.3749 - acc: 0.8898\n",
            "Epoch 37/100\n",
            "10118/10118 [==============================] - 8s 803us/step - loss: 0.3447 - acc: 0.8947\n",
            "Epoch 38/100\n",
            "10118/10118 [==============================] - 8s 803us/step - loss: 0.3212 - acc: 0.9074\n",
            "Epoch 39/100\n",
            "10118/10118 [==============================] - 8s 801us/step - loss: 0.3290 - acc: 0.9039\n",
            "Epoch 40/100\n",
            "10118/10118 [==============================] - 8s 802us/step - loss: 0.3073 - acc: 0.9104\n",
            "Epoch 41/100\n",
            "10118/10118 [==============================] - 8s 801us/step - loss: 0.3310 - acc: 0.9027\n",
            "Epoch 42/100\n",
            "10118/10118 [==============================] - 8s 804us/step - loss: 0.3066 - acc: 0.9071\n",
            "Epoch 43/100\n",
            "10118/10118 [==============================] - 8s 803us/step - loss: 0.2934 - acc: 0.9116\n",
            "Epoch 44/100\n",
            "10118/10118 [==============================] - 8s 804us/step - loss: 0.3175 - acc: 0.9054\n",
            "Epoch 45/100\n",
            "10118/10118 [==============================] - 8s 797us/step - loss: 0.2847 - acc: 0.9149\n",
            "Epoch 46/100\n",
            "10118/10118 [==============================] - 8s 803us/step - loss: 0.2909 - acc: 0.9114\n",
            "Epoch 47/100\n",
            "10118/10118 [==============================] - 8s 800us/step - loss: 0.2740 - acc: 0.9161\n",
            "Epoch 48/100\n",
            "10118/10118 [==============================] - 8s 801us/step - loss: 0.3029 - acc: 0.9079\n",
            "Epoch 49/100\n",
            "10118/10118 [==============================] - 8s 801us/step - loss: 0.2908 - acc: 0.9136\n",
            "Epoch 50/100\n",
            "10118/10118 [==============================] - 8s 804us/step - loss: 0.2887 - acc: 0.9109\n",
            "Epoch 51/100\n",
            "10118/10118 [==============================] - 8s 802us/step - loss: 0.2666 - acc: 0.9198\n",
            "Epoch 52/100\n",
            "10118/10118 [==============================] - 8s 803us/step - loss: 0.2819 - acc: 0.9160\n",
            "Epoch 53/100\n",
            "10118/10118 [==============================] - 8s 802us/step - loss: 0.2691 - acc: 0.9173\n",
            "Epoch 54/100\n",
            "10118/10118 [==============================] - 8s 802us/step - loss: 0.2666 - acc: 0.9192\n",
            "Epoch 55/100\n",
            "10118/10118 [==============================] - 8s 799us/step - loss: 0.2615 - acc: 0.9210\n",
            "Epoch 56/100\n",
            "10118/10118 [==============================] - 8s 802us/step - loss: 0.2770 - acc: 0.9154\n",
            "Epoch 57/100\n",
            "10118/10118 [==============================] - 8s 802us/step - loss: 0.2509 - acc: 0.9230\n",
            "Epoch 58/100\n",
            "10118/10118 [==============================] - 8s 802us/step - loss: 0.2480 - acc: 0.9244\n",
            "Epoch 59/100\n",
            "10118/10118 [==============================] - 8s 804us/step - loss: 0.2618 - acc: 0.9203\n",
            "Epoch 60/100\n",
            "10118/10118 [==============================] - 8s 802us/step - loss: 0.2419 - acc: 0.9271\n",
            "Epoch 61/100\n",
            "10118/10118 [==============================] - 8s 796us/step - loss: 0.2515 - acc: 0.9245\n",
            "Epoch 62/100\n",
            "10118/10118 [==============================] - 8s 796us/step - loss: 0.2548 - acc: 0.9229\n",
            "Epoch 63/100\n",
            "10118/10118 [==============================] - 8s 804us/step - loss: 0.2389 - acc: 0.9248\n",
            "Epoch 64/100\n",
            "10118/10118 [==============================] - 8s 802us/step - loss: 0.2535 - acc: 0.9252\n",
            "Epoch 65/100\n",
            "10118/10118 [==============================] - 8s 801us/step - loss: 0.2229 - acc: 0.9323\n",
            "Epoch 66/100\n",
            "10118/10118 [==============================] - 8s 800us/step - loss: 0.2213 - acc: 0.9320\n",
            "Epoch 67/100\n",
            "10118/10118 [==============================] - 8s 801us/step - loss: 0.2370 - acc: 0.9279\n",
            "Epoch 68/100\n",
            "10118/10118 [==============================] - 8s 800us/step - loss: 0.2186 - acc: 0.9350\n",
            "Epoch 69/100\n",
            "10118/10118 [==============================] - 8s 801us/step - loss: 0.2230 - acc: 0.9311\n",
            "Epoch 70/100\n",
            "10118/10118 [==============================] - 8s 805us/step - loss: 0.2191 - acc: 0.9313\n",
            "Epoch 71/100\n",
            "10118/10118 [==============================] - 8s 803us/step - loss: 0.2177 - acc: 0.9308\n",
            "Epoch 72/100\n",
            "10118/10118 [==============================] - 8s 802us/step - loss: 0.2213 - acc: 0.9318\n",
            "Epoch 73/100\n",
            "10118/10118 [==============================] - 8s 802us/step - loss: 0.2292 - acc: 0.9265\n",
            "Epoch 74/100\n",
            "10118/10118 [==============================] - 8s 801us/step - loss: 0.2231 - acc: 0.9308\n",
            "Epoch 75/100\n",
            "10118/10118 [==============================] - 8s 801us/step - loss: 0.2165 - acc: 0.9319\n",
            "Epoch 76/100\n",
            "10118/10118 [==============================] - 8s 803us/step - loss: 0.2023 - acc: 0.9359\n",
            "Epoch 77/100\n",
            "10118/10118 [==============================] - 8s 804us/step - loss: 0.2100 - acc: 0.9339\n",
            "Epoch 78/100\n",
            "10118/10118 [==============================] - 8s 800us/step - loss: 0.1997 - acc: 0.9380\n",
            "Epoch 79/100\n",
            "10118/10118 [==============================] - 8s 801us/step - loss: 0.2044 - acc: 0.9373\n",
            "Epoch 80/100\n",
            "10118/10118 [==============================] - 8s 801us/step - loss: 0.2097 - acc: 0.9358\n",
            "Epoch 81/100\n",
            "10118/10118 [==============================] - 8s 803us/step - loss: 0.2073 - acc: 0.9359\n",
            "Epoch 82/100\n",
            "10118/10118 [==============================] - 8s 798us/step - loss: 0.2076 - acc: 0.9363\n",
            "Epoch 83/100\n",
            "10118/10118 [==============================] - 8s 795us/step - loss: 0.1987 - acc: 0.9358\n",
            "Epoch 84/100\n",
            "10118/10118 [==============================] - 8s 800us/step - loss: 0.2090 - acc: 0.9343\n",
            "Epoch 85/100\n",
            "10118/10118 [==============================] - 8s 802us/step - loss: 0.1948 - acc: 0.9397\n",
            "Epoch 86/100\n",
            "10118/10118 [==============================] - 8s 802us/step - loss: 0.1894 - acc: 0.9385\n",
            "Epoch 87/100\n",
            "10118/10118 [==============================] - 8s 802us/step - loss: 0.1992 - acc: 0.9374\n",
            "Epoch 88/100\n",
            "10118/10118 [==============================] - 8s 803us/step - loss: 0.1867 - acc: 0.9401\n",
            "Epoch 89/100\n",
            "10118/10118 [==============================] - 8s 801us/step - loss: 0.1859 - acc: 0.9414\n",
            "Epoch 90/100\n",
            "10118/10118 [==============================] - 8s 801us/step - loss: 0.1743 - acc: 0.9433\n",
            "Epoch 91/100\n",
            "10118/10118 [==============================] - 8s 801us/step - loss: 0.2095 - acc: 0.9347\n",
            "Epoch 92/100\n",
            "10118/10118 [==============================] - 8s 803us/step - loss: 0.1993 - acc: 0.9370\n",
            "Epoch 93/100\n",
            "10118/10118 [==============================] - 8s 801us/step - loss: 0.1933 - acc: 0.9368\n",
            "Epoch 94/100\n",
            "10118/10118 [==============================] - 8s 804us/step - loss: 0.1932 - acc: 0.9381\n",
            "Epoch 95/100\n",
            "10118/10118 [==============================] - 8s 800us/step - loss: 0.1903 - acc: 0.9393\n",
            "Epoch 96/100\n",
            "10118/10118 [==============================] - 8s 801us/step - loss: 0.1800 - acc: 0.9437\n",
            "Epoch 97/100\n",
            "10118/10118 [==============================] - 8s 804us/step - loss: 0.1844 - acc: 0.9395\n",
            "Epoch 98/100\n",
            "10118/10118 [==============================] - 8s 801us/step - loss: 0.2013 - acc: 0.9325\n",
            "Epoch 99/100\n",
            "10118/10118 [==============================] - 8s 798us/step - loss: 0.1772 - acc: 0.9427\n",
            "Epoch 100/100\n",
            "10118/10118 [==============================] - 8s 793us/step - loss: 0.1860 - acc: 0.9423\n"
          ],
          "name": "stdout"
        },
        {
          "output_type": "execute_result",
          "data": {
            "text/plain": [
              "<keras.callbacks.History at 0x7fbe7e59da90>"
            ]
          },
          "metadata": {
            "tags": []
          },
          "execution_count": 56
        }
      ]
    },
    {
      "metadata": {
        "colab_type": "code",
        "id": "A_K5w6oHQUFL",
        "outputId": "3e71abe5-7e35-4ac9-c74f-f073ffbd89ba",
        "colab": {
          "base_uri": "https://localhost:8080/",
          "height": 35
        }
      },
      "cell_type": "code",
      "source": [
        "loss2, acc2 = model.evaluate(x,y_train1)"
      ],
      "execution_count": 58,
      "outputs": [
        {
          "output_type": "stream",
          "text": [
            "10118/10118 [==============================] - 3s 318us/step\n"
          ],
          "name": "stdout"
        }
      ]
    },
    {
      "metadata": {
        "colab_type": "code",
        "id": "2lQiD5eeQUHm",
        "outputId": "b3793818-d4cd-4a58-83a6-0d8a1f34fe4f",
        "colab": {
          "base_uri": "https://localhost:8080/",
          "height": 35
        }
      },
      "cell_type": "code",
      "source": [
        "print(acc2)"
      ],
      "execution_count": 59,
      "outputs": [
        {
          "output_type": "stream",
          "text": [
            "0.9814192528167622\n"
          ],
          "name": "stdout"
        }
      ]
    }
  ]
}